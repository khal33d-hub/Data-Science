{
 "cells": [
  {
   "cell_type": "markdown",
   "id": "1e20b471-43f1-4e12-afb1-aa7825d8cc69",
   "metadata": {},
   "source": [
    "# Data Scientist Associate Practical Exam Submission"
   ]
  },
  {
   "cell_type": "markdown",
   "id": "836353de-534f-460d-b9ce-e92cc3646c65",
   "metadata": {},
   "source": [
    "## Task 1 \n",
    "The dataset contains **1500 rows and 8 columns** with missing values before cleaning. I have validated all the columns against the criteria in the dataset table:\n",
    " - booking_id: Same as description without missing values.\n",
    " - months_as_member: Same as description without missing values.\n",
    " - weight: 20 missing values, so i replace missing values with overall average weight as instructed.\n",
    " - days_before: No missing values, I removed \"days\" from the column and I convert it to integar data type.\n",
    " - day_of_week: No missing values and I replaced inconsistent data inputs.\n",
    " - time: Same as description without missing values.\n",
    " - category: No missing values and i replaced the wrong data input with 'unknown' as instructed.\n",
    " - attended: Same as description without missing values.\n",
    " \n",
    "After the data validation, the dataset contains **1500 rows and 8 columns.**"
   ]
  },
  {
   "cell_type": "markdown",
   "id": "a20ace18-bcef-4568-b366-3097bf224ebf",
   "metadata": {
    "jupyter": {
     "outputs_hidden": false,
     "source_hidden": true
    }
   },
   "source": [
    "### Original dataset"
   ]
  },
  {
   "cell_type": "code",
   "execution_count": 59,
   "id": "57a0f58d-d51f-4222-9b4d-ec2a1f66e3dc",
   "metadata": {
    "collapsed": true,
    "executionCancelledAt": null,
    "executionTime": 48,
    "jupyter": {
     "outputs_hidden": true,
     "source_hidden": true
    },
    "lastExecutedAt": 1690750082834,
    "lastScheduledRunId": null,
    "lastSuccessfullyExecutedCode": "# Data Validation\n# Check all variables in the data against the criteria in the dataset above\n\nimport pandas as pd\nimport matplotlib.pyplot as plt\nimport matplotlib.style as style\nimport seaborn as sns\nimport numpy as np\n\ndf = pd.read_csv(\"fitness_class_2212.csv\")\n\ndf.info()",
    "outputsMetadata": {
     "0": {
      "height": 309,
      "type": "stream"
     }
    }
   },
   "outputs": [
    {
     "name": "stdout",
     "output_type": "stream",
     "text": [
      "<class 'pandas.core.frame.DataFrame'>\n",
      "RangeIndex: 1500 entries, 0 to 1499\n",
      "Data columns (total 8 columns):\n",
      " #   Column            Non-Null Count  Dtype  \n",
      "---  ------            --------------  -----  \n",
      " 0   booking_id        1500 non-null   int64  \n",
      " 1   months_as_member  1500 non-null   int64  \n",
      " 2   weight            1480 non-null   float64\n",
      " 3   days_before       1500 non-null   object \n",
      " 4   day_of_week       1500 non-null   object \n",
      " 5   time              1500 non-null   object \n",
      " 6   category          1500 non-null   object \n",
      " 7   attended          1500 non-null   int64  \n",
      "dtypes: float64(1), int64(3), object(4)\n",
      "memory usage: 93.9+ KB\n"
     ]
    }
   ],
   "source": [
    "# Data Validation\n",
    "# Check all variables in the data against the criteria in the dataset above\n",
    "\n",
    "import pandas as pd\n",
    "import matplotlib.pyplot as plt\n",
    "import matplotlib.style as style\n",
    "import seaborn as sns\n",
    "import numpy as np\n",
    "\n",
    "df = pd.read_csv(\"fitness_class_2212.csv\")\n",
    "\n",
    "df.info()"
   ]
  },
  {
   "cell_type": "code",
   "execution_count": 60,
   "id": "904acf49-f045-48e7-b41b-06454fb87546",
   "metadata": {
    "collapsed": true,
    "executionCancelledAt": null,
    "executionTime": 56,
    "jupyter": {
     "outputs_hidden": true,
     "source_hidden": true
    },
    "lastExecutedAt": 1690750082890,
    "lastScheduledRunId": null,
    "lastSuccessfullyExecutedCode": "df.head()",
    "outputsMetadata": {
     "0": {
      "height": 193,
      "type": "dataFrame"
     }
    }
   },
   "outputs": [
    {
     "data": {
      "application/com.datacamp.data-table.v1+json": {
       "table": {
        "data": [
         {
          "attended": 0,
          "booking_id": 1,
          "category": "Strength",
          "day_of_week": "Wed",
          "days_before": "8",
          "index": 0,
          "months_as_member": 17,
          "time": "PM",
          "weight": 79.56
         },
         {
          "attended": 0,
          "booking_id": 2,
          "category": "HIIT",
          "day_of_week": "Mon",
          "days_before": "2",
          "index": 1,
          "months_as_member": 10,
          "time": "AM",
          "weight": 79.01
         },
         {
          "attended": 0,
          "booking_id": 3,
          "category": "Strength",
          "day_of_week": "Sun",
          "days_before": "14",
          "index": 2,
          "months_as_member": 16,
          "time": "AM",
          "weight": 74.53
         },
         {
          "attended": 0,
          "booking_id": 4,
          "category": "Cycling",
          "day_of_week": "Fri",
          "days_before": "10",
          "index": 3,
          "months_as_member": 5,
          "time": "AM",
          "weight": 86.12
         },
         {
          "attended": 0,
          "booking_id": 5,
          "category": "HIIT",
          "day_of_week": "Thu",
          "days_before": "8",
          "index": 4,
          "months_as_member": 15,
          "time": "AM",
          "weight": 69.29
         }
        ],
        "schema": {
         "fields": [
          {
           "name": "index",
           "type": "integer"
          },
          {
           "name": "booking_id",
           "type": "integer"
          },
          {
           "name": "months_as_member",
           "type": "integer"
          },
          {
           "name": "weight",
           "type": "number"
          },
          {
           "name": "days_before",
           "type": "string"
          },
          {
           "name": "day_of_week",
           "type": "string"
          },
          {
           "name": "time",
           "type": "string"
          },
          {
           "name": "category",
           "type": "string"
          },
          {
           "name": "attended",
           "type": "integer"
          }
         ],
         "pandas_version": "1.4.0",
         "primaryKey": [
          "index"
         ]
        }
       },
       "total_rows": 5,
       "truncation_type": null
      },
      "text/html": [
       "<div>\n",
       "<style scoped>\n",
       "    .dataframe tbody tr th:only-of-type {\n",
       "        vertical-align: middle;\n",
       "    }\n",
       "\n",
       "    .dataframe tbody tr th {\n",
       "        vertical-align: top;\n",
       "    }\n",
       "\n",
       "    .dataframe thead th {\n",
       "        text-align: right;\n",
       "    }\n",
       "</style>\n",
       "<table border=\"1\" class=\"dataframe\">\n",
       "  <thead>\n",
       "    <tr style=\"text-align: right;\">\n",
       "      <th></th>\n",
       "      <th>booking_id</th>\n",
       "      <th>months_as_member</th>\n",
       "      <th>weight</th>\n",
       "      <th>days_before</th>\n",
       "      <th>day_of_week</th>\n",
       "      <th>time</th>\n",
       "      <th>category</th>\n",
       "      <th>attended</th>\n",
       "    </tr>\n",
       "  </thead>\n",
       "  <tbody>\n",
       "    <tr>\n",
       "      <th>0</th>\n",
       "      <td>1</td>\n",
       "      <td>17</td>\n",
       "      <td>79.56</td>\n",
       "      <td>8</td>\n",
       "      <td>Wed</td>\n",
       "      <td>PM</td>\n",
       "      <td>Strength</td>\n",
       "      <td>0</td>\n",
       "    </tr>\n",
       "    <tr>\n",
       "      <th>1</th>\n",
       "      <td>2</td>\n",
       "      <td>10</td>\n",
       "      <td>79.01</td>\n",
       "      <td>2</td>\n",
       "      <td>Mon</td>\n",
       "      <td>AM</td>\n",
       "      <td>HIIT</td>\n",
       "      <td>0</td>\n",
       "    </tr>\n",
       "    <tr>\n",
       "      <th>2</th>\n",
       "      <td>3</td>\n",
       "      <td>16</td>\n",
       "      <td>74.53</td>\n",
       "      <td>14</td>\n",
       "      <td>Sun</td>\n",
       "      <td>AM</td>\n",
       "      <td>Strength</td>\n",
       "      <td>0</td>\n",
       "    </tr>\n",
       "    <tr>\n",
       "      <th>3</th>\n",
       "      <td>4</td>\n",
       "      <td>5</td>\n",
       "      <td>86.12</td>\n",
       "      <td>10</td>\n",
       "      <td>Fri</td>\n",
       "      <td>AM</td>\n",
       "      <td>Cycling</td>\n",
       "      <td>0</td>\n",
       "    </tr>\n",
       "    <tr>\n",
       "      <th>4</th>\n",
       "      <td>5</td>\n",
       "      <td>15</td>\n",
       "      <td>69.29</td>\n",
       "      <td>8</td>\n",
       "      <td>Thu</td>\n",
       "      <td>AM</td>\n",
       "      <td>HIIT</td>\n",
       "      <td>0</td>\n",
       "    </tr>\n",
       "  </tbody>\n",
       "</table>\n",
       "</div>"
      ],
      "text/plain": [
       "   booking_id  months_as_member  weight  ... time  category attended\n",
       "0           1                17   79.56  ...   PM  Strength        0\n",
       "1           2                10   79.01  ...   AM      HIIT        0\n",
       "2           3                16   74.53  ...   AM  Strength        0\n",
       "3           4                 5   86.12  ...   AM   Cycling        0\n",
       "4           5                15   69.29  ...   AM      HIIT        0\n",
       "\n",
       "[5 rows x 8 columns]"
      ]
     },
     "execution_count": 60,
     "metadata": {},
     "output_type": "execute_result"
    }
   ],
   "source": [
    "df.head()"
   ]
  },
  {
   "cell_type": "markdown",
   "id": "d9badef3-7d05-4728-9016-96aebb33fa95",
   "metadata": {
    "jupyter": {
     "outputs_hidden": false,
     "source_hidden": true
    }
   },
   "source": [
    "### Validate the categorical variables"
   ]
  },
  {
   "cell_type": "code",
   "execution_count": 61,
   "id": "e5457f8f-c2c1-4119-a92a-03f8b7ba3335",
   "metadata": {
    "collapsed": true,
    "executionCancelledAt": null,
    "executionTime": 53,
    "jupyter": {
     "outputs_hidden": true,
     "source_hidden": true
    },
    "lastExecutedAt": 1690750082943,
    "lastScheduledRunId": null,
    "lastSuccessfullyExecutedCode": "cats = ['time','category','day_of_week', 'days_before']\n\nfor column in cats:\n    print(df[column].value_counts())\n    print()\n    ",
    "outputsMetadata": {
     "0": {
      "height": 616,
      "type": "stream"
     }
    }
   },
   "outputs": [
    {
     "name": "stdout",
     "output_type": "stream",
     "text": [
      "AM    1141\n",
      "PM     359\n",
      "Name: time, dtype: int64\n",
      "\n",
      "HIIT        667\n",
      "Cycling     376\n",
      "Strength    233\n",
      "Yoga        135\n",
      "Aqua         76\n",
      "-            13\n",
      "Name: category, dtype: int64\n",
      "\n",
      "Fri          279\n",
      "Thu          241\n",
      "Mon          218\n",
      "Sun          213\n",
      "Sat          202\n",
      "Tue          195\n",
      "Wed           81\n",
      "Wednesday     35\n",
      "Fri.          26\n",
      "Monday        10\n",
      "Name: day_of_week, dtype: int64\n",
      "\n",
      "10         293\n",
      "2          199\n",
      "8          194\n",
      "12         178\n",
      "14         172\n",
      "4          154\n",
      "6           70\n",
      "7           38\n",
      "3           31\n",
      "5           30\n",
      "11          26\n",
      "13          25\n",
      "15          24\n",
      "9           24\n",
      "1            9\n",
      "10 days      6\n",
      "14 days      3\n",
      "12 days      3\n",
      "6 days       3\n",
      "4 days       3\n",
      "16           3\n",
      "17           3\n",
      "20           1\n",
      "2 days       1\n",
      "5 days       1\n",
      "7 days       1\n",
      "8 days       1\n",
      "1 days       1\n",
      "3 days       1\n",
      "13 days      1\n",
      "29           1\n",
      "Name: days_before, dtype: int64\n",
      "\n"
     ]
    }
   ],
   "source": [
    "cats = ['time','category','day_of_week', 'days_before']\n",
    "\n",
    "for column in cats:\n",
    "    print(df[column].value_counts())\n",
    "    print()\n",
    "    "
   ]
  },
  {
   "cell_type": "code",
   "execution_count": 62,
   "id": "131f4131-ed47-4e69-8870-c96b04d63bb4",
   "metadata": {
    "collapsed": true,
    "executionCancelledAt": null,
    "executionTime": 51,
    "jupyter": {
     "outputs_hidden": true,
     "source_hidden": true
    },
    "lastExecutedAt": 1690750082994,
    "lastScheduledRunId": null,
    "lastSuccessfullyExecutedCode": "df[cats].isna().sum()"
   },
   "outputs": [
    {
     "data": {
      "text/plain": [
       "time           0\n",
       "category       0\n",
       "day_of_week    0\n",
       "days_before    0\n",
       "dtype: int64"
      ]
     },
     "execution_count": 62,
     "metadata": {},
     "output_type": "execute_result"
    }
   ],
   "source": [
    "df[cats].isna().sum()"
   ]
  },
  {
   "cell_type": "markdown",
   "id": "b1a281c6-bfbf-4c50-bbc2-dfb131a49cbb",
   "metadata": {
    "jupyter": {
     "outputs_hidden": false,
     "source_hidden": true
    }
   },
   "source": [
    "### Cleaning day_of_week column"
   ]
  },
  {
   "cell_type": "code",
   "execution_count": 63,
   "id": "2ad3566e-4c3c-4190-ac89-b5305cc4e088",
   "metadata": {
    "collapsed": true,
    "executionCancelledAt": null,
    "executionTime": 49,
    "jupyter": {
     "outputs_hidden": true,
     "source_hidden": true
    },
    "lastExecutedAt": 1690750083043,
    "lastScheduledRunId": null,
    "lastSuccessfullyExecutedCode": "# Replacing wrong and inconsistent input with consistent ones\nreplacement_dict = {'Fri.': 'Fri', \n                   'Wednesday': 'Wed',\n                   'Monday':'Mon'}\n\ndf['day_of_week'] = df['day_of_week'].replace(replacement_dict)\n\ndf['day_of_week'].value_counts()"
   },
   "outputs": [
    {
     "data": {
      "text/plain": [
       "Fri    305\n",
       "Thu    241\n",
       "Mon    228\n",
       "Sun    213\n",
       "Sat    202\n",
       "Tue    195\n",
       "Wed    116\n",
       "Name: day_of_week, dtype: int64"
      ]
     },
     "execution_count": 63,
     "metadata": {},
     "output_type": "execute_result"
    }
   ],
   "source": [
    "# Replacing wrong and inconsistent input with consistent ones\n",
    "replacement_dict = {'Fri.': 'Fri', \n",
    "                   'Wednesday': 'Wed',\n",
    "                   'Monday':'Mon'}\n",
    "\n",
    "df['day_of_week'] = df['day_of_week'].replace(replacement_dict)\n",
    "\n",
    "df['day_of_week'].value_counts()"
   ]
  },
  {
   "cell_type": "markdown",
   "id": "190a61e4-cdbb-488e-b7ce-eaa177c1574e",
   "metadata": {
    "jupyter": {
     "outputs_hidden": false,
     "source_hidden": true
    }
   },
   "source": [
    "### Cleaning category column"
   ]
  },
  {
   "cell_type": "code",
   "execution_count": 64,
   "id": "ae285f33-b229-48f5-887c-bf2be1c722a3",
   "metadata": {
    "collapsed": true,
    "executionCancelledAt": null,
    "executionTime": 51,
    "jupyter": {
     "outputs_hidden": true,
     "source_hidden": true
    },
    "lastExecutedAt": 1690750083094,
    "lastScheduledRunId": null,
    "lastSuccessfullyExecutedCode": "# replacing '-' with unknown \ndf['category'] = df['category'].str.replace('-', 'unknown')\n\ndf['category'].value_counts()"
   },
   "outputs": [
    {
     "data": {
      "text/plain": [
       "HIIT        667\n",
       "Cycling     376\n",
       "Strength    233\n",
       "Yoga        135\n",
       "Aqua         76\n",
       "unknown      13\n",
       "Name: category, dtype: int64"
      ]
     },
     "execution_count": 64,
     "metadata": {},
     "output_type": "execute_result"
    }
   ],
   "source": [
    "# replacing '-' with unknown \n",
    "df['category'] = df['category'].str.replace('-', 'unknown')\n",
    "\n",
    "df['category'].value_counts()"
   ]
  },
  {
   "cell_type": "markdown",
   "id": "8b86cac4-4d03-4d8f-aafb-a6240796552a",
   "metadata": {
    "jupyter": {
     "outputs_hidden": false,
     "source_hidden": true
    }
   },
   "source": [
    "### Validate the numerical variables"
   ]
  },
  {
   "cell_type": "code",
   "execution_count": 65,
   "id": "02681075-a4b0-4cd8-8d13-f02dd922e72d",
   "metadata": {
    "collapsed": true,
    "executionCancelledAt": null,
    "executionTime": 52,
    "jupyter": {
     "outputs_hidden": true,
     "source_hidden": true
    },
    "lastExecutedAt": 1690750083146,
    "lastScheduledRunId": null,
    "lastSuccessfullyExecutedCode": "# printing the stats of the numerical column\ndf.describe()",
    "outputsMetadata": {
     "0": {
      "height": 266,
      "type": "dataFrame"
     }
    }
   },
   "outputs": [
    {
     "data": {
      "application/com.datacamp.data-table.v1+json": {
       "table": {
        "data": [
         {
          "attended": 1500,
          "booking_id": 1500,
          "index": "count",
          "months_as_member": 1500,
          "weight": 1480
         },
         {
          "attended": 0.3026666667,
          "booking_id": 750.5,
          "index": "mean",
          "months_as_member": 15.6286666667,
          "weight": 82.6103783784
         },
         {
          "attended": 0.4595653988,
          "booking_id": 433.1570154113,
          "index": "std",
          "months_as_member": 12.9265427923,
          "weight": 12.7658590914
         },
         {
          "attended": 0,
          "booking_id": 1,
          "index": "min",
          "months_as_member": 1,
          "weight": 55.41
         },
         {
          "attended": 0,
          "booking_id": 375.75,
          "index": "25%",
          "months_as_member": 8,
          "weight": 73.49
         },
         {
          "attended": 0,
          "booking_id": 750.5,
          "index": "50%",
          "months_as_member": 12,
          "weight": 80.76
         },
         {
          "attended": 1,
          "booking_id": 1125.25,
          "index": "75%",
          "months_as_member": 19,
          "weight": 89.52
         },
         {
          "attended": 1,
          "booking_id": 1500,
          "index": "max",
          "months_as_member": 148,
          "weight": 170.52
         }
        ],
        "schema": {
         "fields": [
          {
           "name": "index",
           "type": "string"
          },
          {
           "name": "booking_id",
           "type": "number"
          },
          {
           "name": "months_as_member",
           "type": "number"
          },
          {
           "name": "weight",
           "type": "number"
          },
          {
           "name": "attended",
           "type": "number"
          }
         ],
         "pandas_version": "1.4.0",
         "primaryKey": [
          "index"
         ]
        }
       },
       "total_rows": 8,
       "truncation_type": null
      },
      "text/html": [
       "<div>\n",
       "<style scoped>\n",
       "    .dataframe tbody tr th:only-of-type {\n",
       "        vertical-align: middle;\n",
       "    }\n",
       "\n",
       "    .dataframe tbody tr th {\n",
       "        vertical-align: top;\n",
       "    }\n",
       "\n",
       "    .dataframe thead th {\n",
       "        text-align: right;\n",
       "    }\n",
       "</style>\n",
       "<table border=\"1\" class=\"dataframe\">\n",
       "  <thead>\n",
       "    <tr style=\"text-align: right;\">\n",
       "      <th></th>\n",
       "      <th>booking_id</th>\n",
       "      <th>months_as_member</th>\n",
       "      <th>weight</th>\n",
       "      <th>attended</th>\n",
       "    </tr>\n",
       "  </thead>\n",
       "  <tbody>\n",
       "    <tr>\n",
       "      <th>count</th>\n",
       "      <td>1500.000000</td>\n",
       "      <td>1500.000000</td>\n",
       "      <td>1480.000000</td>\n",
       "      <td>1500.000000</td>\n",
       "    </tr>\n",
       "    <tr>\n",
       "      <th>mean</th>\n",
       "      <td>750.500000</td>\n",
       "      <td>15.628667</td>\n",
       "      <td>82.610378</td>\n",
       "      <td>0.302667</td>\n",
       "    </tr>\n",
       "    <tr>\n",
       "      <th>std</th>\n",
       "      <td>433.157015</td>\n",
       "      <td>12.926543</td>\n",
       "      <td>12.765859</td>\n",
       "      <td>0.459565</td>\n",
       "    </tr>\n",
       "    <tr>\n",
       "      <th>min</th>\n",
       "      <td>1.000000</td>\n",
       "      <td>1.000000</td>\n",
       "      <td>55.410000</td>\n",
       "      <td>0.000000</td>\n",
       "    </tr>\n",
       "    <tr>\n",
       "      <th>25%</th>\n",
       "      <td>375.750000</td>\n",
       "      <td>8.000000</td>\n",
       "      <td>73.490000</td>\n",
       "      <td>0.000000</td>\n",
       "    </tr>\n",
       "    <tr>\n",
       "      <th>50%</th>\n",
       "      <td>750.500000</td>\n",
       "      <td>12.000000</td>\n",
       "      <td>80.760000</td>\n",
       "      <td>0.000000</td>\n",
       "    </tr>\n",
       "    <tr>\n",
       "      <th>75%</th>\n",
       "      <td>1125.250000</td>\n",
       "      <td>19.000000</td>\n",
       "      <td>89.520000</td>\n",
       "      <td>1.000000</td>\n",
       "    </tr>\n",
       "    <tr>\n",
       "      <th>max</th>\n",
       "      <td>1500.000000</td>\n",
       "      <td>148.000000</td>\n",
       "      <td>170.520000</td>\n",
       "      <td>1.000000</td>\n",
       "    </tr>\n",
       "  </tbody>\n",
       "</table>\n",
       "</div>"
      ],
      "text/plain": [
       "        booking_id  months_as_member       weight     attended\n",
       "count  1500.000000       1500.000000  1480.000000  1500.000000\n",
       "mean    750.500000         15.628667    82.610378     0.302667\n",
       "std     433.157015         12.926543    12.765859     0.459565\n",
       "min       1.000000          1.000000    55.410000     0.000000\n",
       "25%     375.750000          8.000000    73.490000     0.000000\n",
       "50%     750.500000         12.000000    80.760000     0.000000\n",
       "75%    1125.250000         19.000000    89.520000     1.000000\n",
       "max    1500.000000        148.000000   170.520000     1.000000"
      ]
     },
     "execution_count": 65,
     "metadata": {},
     "output_type": "execute_result"
    }
   ],
   "source": [
    "# printing the stats of the numerical column\n",
    "df.describe()"
   ]
  },
  {
   "cell_type": "code",
   "execution_count": 66,
   "id": "78147128-2fe2-4c7e-87c1-9acd7e954430",
   "metadata": {
    "collapsed": true,
    "executionCancelledAt": null,
    "executionTime": 51,
    "jupyter": {
     "outputs_hidden": true,
     "source_hidden": true
    },
    "lastExecutedAt": 1690750083198,
    "lastScheduledRunId": null,
    "lastSuccessfullyExecutedCode": "df.isna().sum()"
   },
   "outputs": [
    {
     "data": {
      "text/plain": [
       "booking_id           0\n",
       "months_as_member     0\n",
       "weight              20\n",
       "days_before          0\n",
       "day_of_week          0\n",
       "time                 0\n",
       "category             0\n",
       "attended             0\n",
       "dtype: int64"
      ]
     },
     "execution_count": 66,
     "metadata": {},
     "output_type": "execute_result"
    }
   ],
   "source": [
    "df.isna().sum()"
   ]
  },
  {
   "cell_type": "markdown",
   "id": "e352a9b8-e9bc-4e6d-b05d-8da846ac9bd2",
   "metadata": {
    "jupyter": {
     "outputs_hidden": false,
     "source_hidden": true
    }
   },
   "source": [
    "### Cleaning weight column"
   ]
  },
  {
   "cell_type": "code",
   "execution_count": 67,
   "id": "e8d780d7-d191-4c2e-8a6e-f6d016c1ed56",
   "metadata": {
    "executionCancelledAt": null,
    "executionTime": 48,
    "jupyter": {
     "outputs_hidden": false,
     "source_hidden": true
    },
    "lastExecutedAt": 1690750083246,
    "lastScheduledRunId": null,
    "lastSuccessfullyExecutedCode": "# replacing missing values with overall mean weight\ndf['weight'] = df['weight'].fillna(np.mean(df['weight']))"
   },
   "outputs": [],
   "source": [
    "# replacing missing values with overall mean weight\n",
    "df['weight'] = df['weight'].fillna(np.mean(df['weight']))"
   ]
  },
  {
   "cell_type": "markdown",
   "id": "df0185b8-28cb-42f6-8b62-3e602c36715d",
   "metadata": {
    "jupyter": {
     "outputs_hidden": false,
     "source_hidden": true
    }
   },
   "source": [
    "### Cleaning days_before column"
   ]
  },
  {
   "cell_type": "code",
   "execution_count": 68,
   "id": "0ed3413e-2013-47dc-bf5d-2ec9a725313d",
   "metadata": {
    "executionCancelledAt": null,
    "executionTime": 52,
    "jupyter": {
     "outputs_hidden": false,
     "source_hidden": true
    },
    "lastExecutedAt": 1690750083298,
    "lastScheduledRunId": null,
    "lastSuccessfullyExecutedCode": "# removing unwanted sting 'days'\ndf['days_before'] = df['days_before'].str.replace(\" days\", \"\")\n\n# removing excess whitespaces\ndf['days_before'] = df['days_before'].str.strip()\n\n#converting the column to integar data type\ndf['days_before'] = df['days_before'].astype('int')"
   },
   "outputs": [],
   "source": [
    "# removing unwanted sting 'days'\n",
    "df['days_before'] = df['days_before'].str.replace(\" days\", \"\")\n",
    "\n",
    "# removing excess whitespaces\n",
    "df['days_before'] = df['days_before'].str.strip()\n",
    "\n",
    "#converting the column to integar data type\n",
    "df['days_before'] = df['days_before'].astype('int')"
   ]
  },
  {
   "cell_type": "code",
   "execution_count": 69,
   "id": "13a07c44-1a29-400f-b7d5-5aa08405a512",
   "metadata": {
    "collapsed": true,
    "executionCancelledAt": null,
    "executionTime": 48,
    "jupyter": {
     "outputs_hidden": true,
     "source_hidden": true
    },
    "lastExecutedAt": 1690750083346,
    "lastScheduledRunId": null,
    "lastSuccessfullyExecutedCode": "df['days_before'].value_counts()"
   },
   "outputs": [
    {
     "data": {
      "text/plain": [
       "10    299\n",
       "2     200\n",
       "8     195\n",
       "12    181\n",
       "14    175\n",
       "4     157\n",
       "6      73\n",
       "7      39\n",
       "3      32\n",
       "5      31\n",
       "13     26\n",
       "11     26\n",
       "9      24\n",
       "15     24\n",
       "1      10\n",
       "16      3\n",
       "17      3\n",
       "20      1\n",
       "29      1\n",
       "Name: days_before, dtype: int64"
      ]
     },
     "execution_count": 69,
     "metadata": {},
     "output_type": "execute_result"
    }
   ],
   "source": [
    "df['days_before'].value_counts()"
   ]
  },
  {
   "cell_type": "markdown",
   "id": "0f7ab09b-21ef-4fda-a020-f9b850b41dcf",
   "metadata": {
    "jupyter": {
     "outputs_hidden": false,
     "source_hidden": true
    }
   },
   "source": [
    "### Final dataset"
   ]
  },
  {
   "cell_type": "code",
   "execution_count": 70,
   "id": "f9f3a799-e34a-4888-a512-3a39871fc702",
   "metadata": {
    "collapsed": true,
    "executionCancelledAt": null,
    "executionTime": 48,
    "jupyter": {
     "outputs_hidden": true,
     "source_hidden": true
    },
    "lastExecutedAt": 1690750083394,
    "lastScheduledRunId": null,
    "lastSuccessfullyExecutedCode": "df.info()",
    "outputsMetadata": {
     "0": {
      "height": 309,
      "type": "stream"
     }
    }
   },
   "outputs": [
    {
     "name": "stdout",
     "output_type": "stream",
     "text": [
      "<class 'pandas.core.frame.DataFrame'>\n",
      "RangeIndex: 1500 entries, 0 to 1499\n",
      "Data columns (total 8 columns):\n",
      " #   Column            Non-Null Count  Dtype  \n",
      "---  ------            --------------  -----  \n",
      " 0   booking_id        1500 non-null   int64  \n",
      " 1   months_as_member  1500 non-null   int64  \n",
      " 2   weight            1500 non-null   float64\n",
      " 3   days_before       1500 non-null   int64  \n",
      " 4   day_of_week       1500 non-null   object \n",
      " 5   time              1500 non-null   object \n",
      " 6   category          1500 non-null   object \n",
      " 7   attended          1500 non-null   int64  \n",
      "dtypes: float64(1), int64(4), object(3)\n",
      "memory usage: 93.9+ KB\n"
     ]
    }
   ],
   "source": [
    "df.info()"
   ]
  },
  {
   "cell_type": "code",
   "execution_count": 71,
   "id": "28b0f912-e662-4771-b3b5-aeb090355dee",
   "metadata": {
    "collapsed": true,
    "executionCancelledAt": null,
    "executionTime": 48,
    "jupyter": {
     "outputs_hidden": true,
     "source_hidden": true
    },
    "lastExecutedAt": 1690750083442,
    "lastScheduledRunId": null,
    "lastSuccessfullyExecutedCode": "df.describe()",
    "outputsMetadata": {
     "0": {
      "height": 265,
      "type": "dataFrame"
     }
    }
   },
   "outputs": [
    {
     "data": {
      "application/com.datacamp.data-table.v1+json": {
       "table": {
        "data": [
         {
          "attended": 1500,
          "booking_id": 1500,
          "days_before": 1500,
          "index": "count",
          "months_as_member": 1500,
          "weight": 1500
         },
         {
          "attended": 0.3026666667,
          "booking_id": 750.5,
          "days_before": 8.3466666667,
          "index": "mean",
          "months_as_member": 15.6286666667,
          "weight": 82.6103783784
         },
         {
          "attended": 0.4595653988,
          "booking_id": 433.1570154113,
          "days_before": 4.0779376249,
          "index": "std",
          "months_as_member": 12.9265427923,
          "weight": 12.6804106138
         },
         {
          "attended": 0,
          "booking_id": 1,
          "days_before": 1,
          "index": "min",
          "months_as_member": 1,
          "weight": 55.41
         },
         {
          "attended": 0,
          "booking_id": 375.75,
          "days_before": 4,
          "index": "25%",
          "months_as_member": 8,
          "weight": 73.5625
         },
         {
          "attended": 0,
          "booking_id": 750.5,
          "days_before": 9,
          "index": "50%",
          "months_as_member": 12,
          "weight": 81.035
         },
         {
          "attended": 1,
          "booking_id": 1125.25,
          "days_before": 12,
          "index": "75%",
          "months_as_member": 19,
          "weight": 89.3825
         },
         {
          "attended": 1,
          "booking_id": 1500,
          "days_before": 29,
          "index": "max",
          "months_as_member": 148,
          "weight": 170.52
         }
        ],
        "schema": {
         "fields": [
          {
           "name": "index",
           "type": "string"
          },
          {
           "name": "booking_id",
           "type": "number"
          },
          {
           "name": "months_as_member",
           "type": "number"
          },
          {
           "name": "weight",
           "type": "number"
          },
          {
           "name": "days_before",
           "type": "number"
          },
          {
           "name": "attended",
           "type": "number"
          }
         ],
         "pandas_version": "1.4.0",
         "primaryKey": [
          "index"
         ]
        }
       },
       "total_rows": 8,
       "truncation_type": null
      },
      "text/html": [
       "<div>\n",
       "<style scoped>\n",
       "    .dataframe tbody tr th:only-of-type {\n",
       "        vertical-align: middle;\n",
       "    }\n",
       "\n",
       "    .dataframe tbody tr th {\n",
       "        vertical-align: top;\n",
       "    }\n",
       "\n",
       "    .dataframe thead th {\n",
       "        text-align: right;\n",
       "    }\n",
       "</style>\n",
       "<table border=\"1\" class=\"dataframe\">\n",
       "  <thead>\n",
       "    <tr style=\"text-align: right;\">\n",
       "      <th></th>\n",
       "      <th>booking_id</th>\n",
       "      <th>months_as_member</th>\n",
       "      <th>weight</th>\n",
       "      <th>days_before</th>\n",
       "      <th>attended</th>\n",
       "    </tr>\n",
       "  </thead>\n",
       "  <tbody>\n",
       "    <tr>\n",
       "      <th>count</th>\n",
       "      <td>1500.000000</td>\n",
       "      <td>1500.000000</td>\n",
       "      <td>1500.000000</td>\n",
       "      <td>1500.000000</td>\n",
       "      <td>1500.000000</td>\n",
       "    </tr>\n",
       "    <tr>\n",
       "      <th>mean</th>\n",
       "      <td>750.500000</td>\n",
       "      <td>15.628667</td>\n",
       "      <td>82.610378</td>\n",
       "      <td>8.346667</td>\n",
       "      <td>0.302667</td>\n",
       "    </tr>\n",
       "    <tr>\n",
       "      <th>std</th>\n",
       "      <td>433.157015</td>\n",
       "      <td>12.926543</td>\n",
       "      <td>12.680411</td>\n",
       "      <td>4.077938</td>\n",
       "      <td>0.459565</td>\n",
       "    </tr>\n",
       "    <tr>\n",
       "      <th>min</th>\n",
       "      <td>1.000000</td>\n",
       "      <td>1.000000</td>\n",
       "      <td>55.410000</td>\n",
       "      <td>1.000000</td>\n",
       "      <td>0.000000</td>\n",
       "    </tr>\n",
       "    <tr>\n",
       "      <th>25%</th>\n",
       "      <td>375.750000</td>\n",
       "      <td>8.000000</td>\n",
       "      <td>73.562500</td>\n",
       "      <td>4.000000</td>\n",
       "      <td>0.000000</td>\n",
       "    </tr>\n",
       "    <tr>\n",
       "      <th>50%</th>\n",
       "      <td>750.500000</td>\n",
       "      <td>12.000000</td>\n",
       "      <td>81.035000</td>\n",
       "      <td>9.000000</td>\n",
       "      <td>0.000000</td>\n",
       "    </tr>\n",
       "    <tr>\n",
       "      <th>75%</th>\n",
       "      <td>1125.250000</td>\n",
       "      <td>19.000000</td>\n",
       "      <td>89.382500</td>\n",
       "      <td>12.000000</td>\n",
       "      <td>1.000000</td>\n",
       "    </tr>\n",
       "    <tr>\n",
       "      <th>max</th>\n",
       "      <td>1500.000000</td>\n",
       "      <td>148.000000</td>\n",
       "      <td>170.520000</td>\n",
       "      <td>29.000000</td>\n",
       "      <td>1.000000</td>\n",
       "    </tr>\n",
       "  </tbody>\n",
       "</table>\n",
       "</div>"
      ],
      "text/plain": [
       "        booking_id  months_as_member       weight  days_before     attended\n",
       "count  1500.000000       1500.000000  1500.000000  1500.000000  1500.000000\n",
       "mean    750.500000         15.628667    82.610378     8.346667     0.302667\n",
       "std     433.157015         12.926543    12.680411     4.077938     0.459565\n",
       "min       1.000000          1.000000    55.410000     1.000000     0.000000\n",
       "25%     375.750000          8.000000    73.562500     4.000000     0.000000\n",
       "50%     750.500000         12.000000    81.035000     9.000000     0.000000\n",
       "75%    1125.250000         19.000000    89.382500    12.000000     1.000000\n",
       "max    1500.000000        148.000000   170.520000    29.000000     1.000000"
      ]
     },
     "execution_count": 71,
     "metadata": {},
     "output_type": "execute_result"
    }
   ],
   "source": [
    "df.describe()"
   ]
  },
  {
   "cell_type": "markdown",
   "id": "0944d9ab-ff5a-4dd3-bd52-e27b91d68581",
   "metadata": {},
   "source": [
    "## Task 2\n",
    "\n",
    "From  **Plot 2 Number of Bookings that Attended the Class**, over 1000 bookings were not attended and less than 450 attended. We can see attendance is less than half of non-attendance."
   ]
  },
  {
   "cell_type": "code",
   "execution_count": 72,
   "id": "21ad5978-c676-41ca-91bd-2d497fb13329",
   "metadata": {
    "executionCancelledAt": null,
    "executionTime": 188,
    "jupyter": {
     "outputs_hidden": false,
     "source_hidden": true
    },
    "lastExecutedAt": 1690750083630,
    "lastScheduledRunId": null,
    "lastSuccessfullyExecutedCode": "# set visual style\nstyle.use('ggplot')\n\n# Create a bar plot to show the number of bookings attended the class\nplt.figure(figsize=(8, 6))\nsns.countplot(x='attended', data=df)\n\n# Set titles\nplt.title('Plot 2 Number of Bookings that Attended the Class')\nplt.xlabel('Attended')\nplt.ylabel('Count')\nplt.xticks(ticks=[0, 1], labels=['Not Attended', 'Attended'])\n\nplt.show()"
   },
   "outputs": [
    {
     "data": {
      "image/png": "[encoded data removed]",
      "text/plain": [
       "<Figure size 800x600 with 1 Axes>"
      ]
     },
     "metadata": {},
     "output_type": "display_data"
    }
   ],
   "source": [
    "# set visual style\n",
    "style.use('ggplot')\n",
    "\n",
    "# Create a bar plot to show the number of bookings attended the class\n",
    "plt.figure(figsize=(8, 6))\n",
    "sns.countplot(x='attended', data=df)\n",
    "\n",
    "# Set titles\n",
    "plt.title('Plot 2 Number of Bookings that Attended the Class')\n",
    "plt.xlabel('Attended')\n",
    "plt.ylabel('Count')\n",
    "plt.xticks(ticks=[0, 1], labels=['Not Attended', 'Attended'])\n",
    "\n",
    "plt.show()"
   ]
  },
  {
   "cell_type": "markdown",
   "id": "c509bc83-41a5-42cf-a865-08dcf8229a16",
   "metadata": {},
   "source": [
    "## Task 3\n",
    "From **Plot 3-1 The Distribution of Number of Reviews**, we can see the distribution is right-skewed. From the distribution, we can infer\n",
    "- The majority of data points are concentrated on the left side of the distribution, while the tail extends towards the right. The gym has higher count of newer members than old members.\n",
    "- The mean is greater than the median, and there are some outliers on the right side of the distribution.\n",
    "\n",
    "We can see an outlier larger than 140kg. Simply removing does not affect the distribution,  we decided to log transformation. From **Plot 3-2**, we can see the distribution is much closer to a normal distribution."
   ]
  },
  {
   "cell_type": "code",
   "execution_count": 73,
   "id": "59be2fdd-4d62-431a-9ee6-98b159980348",
   "metadata": {
    "executionCancelledAt": null,
    "executionTime": 220,
    "jupyter": {
     "outputs_hidden": false,
     "source_hidden": true
    },
    "lastExecutedAt": 1690750083850,
    "lastScheduledRunId": null,
    "lastSuccessfullyExecutedCode": "# set visual style\nstyle.use('ggplot')\n\n# Extract the 'Months_as_member' column\nmonths_as_member = df['months_as_member']\n\n# Create a histogram to visualize the distribution of the number of months as a member\nplt.figure(figsize=(10, 6))\nplt.hist(months_as_member, bins=30, edgecolor='black')\nplt.xlabel('Number of Months as Member')\nplt.ylabel('Count')\nplt.title('Plot 3-1 Distribution of Number of Months as Member')\nplt.show()"
   },
   "outputs": [
    {
     "data": {
      "image/png": "[encoded data removed]",
      "text/plain": [
       "<Figure size 1000x600 with 1 Axes>"
      ]
     },
     "metadata": {},
     "output_type": "display_data"
    }
   ],
   "source": [
    "# set visual style\n",
    "style.use('ggplot')\n",
    "\n",
    "# Extract the 'Months_as_member' column\n",
    "months_as_member = df['months_as_member']\n",
    "\n",
    "# Create a histogram to visualize the distribution of the number of months as a member\n",
    "plt.figure(figsize=(10, 6))\n",
    "plt.hist(months_as_member, bins=30, edgecolor='black')\n",
    "plt.xlabel('Number of Months as Member')\n",
    "plt.ylabel('Count')\n",
    "plt.title('Plot 3-1 Distribution of Number of Months as Member')\n",
    "plt.show()"
   ]
  },
  {
   "cell_type": "code",
   "execution_count": 74,
   "id": "44fe9bf7-7f52-4738-a285-024c1699962b",
   "metadata": {
    "executionCancelledAt": null,
    "executionTime": 214,
    "jupyter": {
     "outputs_hidden": false,
     "source_hidden": true
    },
    "lastExecutedAt": 1690750084065,
    "lastScheduledRunId": null,
    "lastSuccessfullyExecutedCode": "# set visual style\nstyle.use('ggplot')\n\n# Extract the 'Months_as_member' column\nmonths_as_member = df['months_as_member']\n\n# Create a histogram to visualize the distribution of the transformed number of months as a member\nplt.figure(figsize=(10, 6))\nplt.hist(np.log(months_as_member), bins=30, edgecolor='black')\nplt.xlabel('Number of Months as Member(transformed)')\nplt.ylabel('Count')\nplt.title('Plot 3-2 Distribution of Number of Months as Member(transformed)')\nplt.show()"
   },
   "outputs": [
    {
     "data": {
      "image/png": "[encoded data removed]",
      "text/plain": [
       "<Figure size 1000x600 with 1 Axes>"
      ]
     },
     "metadata": {},
     "output_type": "display_data"
    }
   ],
   "source": [
    "# set visual style\n",
    "style.use('ggplot')\n",
    "\n",
    "# Extract the 'Months_as_member' column\n",
    "months_as_member = df['months_as_member']\n",
    "\n",
    "# Create a histogram to visualize the distribution of the transformed number of months as a member\n",
    "plt.figure(figsize=(10, 6))\n",
    "plt.hist(np.log(months_as_member), bins=30, edgecolor='black')\n",
    "plt.xlabel('Number of Months as Member(transformed)')\n",
    "plt.ylabel('Count')\n",
    "plt.title('Plot 3-2 Distribution of Number of Months as Member(transformed)')\n",
    "plt.show()"
   ]
  },
  {
   "cell_type": "markdown",
   "id": "17cca003-71ad-4d7e-989b-09aa51ae0aba",
   "metadata": {},
   "source": [
    "## Task 4\n",
    "From **Plot 4-1 The Relationship between Attendance and Number of Months as Member**, there is one outlier of a very old member of more than 140 months(more than 11 years). After removing that outlier in **Plot 4-2** we can see\n",
    "- Attendance was recorded for members older than 20 months on average.\n",
    "- Non-attendace was recorded for members newer than than 15 months on average\n",
    "\n",
    "From **Plot 2** above we know more than 1000 did not attend their class and less than 450 attended their class. In combination with **Plot 4-2**, without considering outliers we can infer:\n",
    "- Less than 450 attendance was recorded for old members ranging from around 2 months to 55 months.\n",
    "- More than 1000 non-attendance was recorded for newer members ranging around from 1 month to 22 months."
   ]
  },
  {
   "cell_type": "code",
   "execution_count": 75,
   "id": "76748ffe-ddd5-40a7-9ef6-4c22e2be1d79",
   "metadata": {
    "executionCancelledAt": null,
    "executionTime": 189,
    "jupyter": {
     "outputs_hidden": false,
     "source_hidden": true
    },
    "lastExecutedAt": 1690750084254,
    "lastScheduledRunId": null,
    "lastSuccessfullyExecutedCode": "# Create a boxxplot to visualise relationship\ng = sns.catplot(x='attended',\n                y='months_as_member',\n                data = df,\n                kind='box',\n               )\n\n# Customize the subplot\ng.set_axis_labels('Attendance', 'Number of Months as Member')\ng.fig.suptitle('Plot 4-1 Relationship between Attendance and Number of Months as Member')\nplt.subplots_adjust(top=0.85)\nplt.show()"
   },
   "outputs": [
    {
     "data": {
      "image/png": "[encoded data removed]",
      "text/plain": [
       "<Figure size 500x500 with 1 Axes>"
      ]
     },
     "metadata": {},
     "output_type": "display_data"
    }
   ],
   "source": [
    "# Create a boxxplot to visualise relationship\n",
    "g = sns.catplot(x='attended',\n",
    "                y='months_as_member',\n",
    "                data = df,\n",
    "                kind='box',\n",
    "               )\n",
    "\n",
    "# Customize the subplot\n",
    "g.set_axis_labels('Attendance', 'Number of Months as Member')\n",
    "g.fig.suptitle('Plot 4-1 Relationship between Attendance and Number of Months as Member')\n",
    "plt.subplots_adjust(top=0.85)\n",
    "plt.show()"
   ]
  },
  {
   "cell_type": "code",
   "execution_count": 76,
   "id": "997136fd-3ae2-4875-b35d-400034ee367f",
   "metadata": {
    "executionCancelledAt": null,
    "executionTime": 48,
    "jupyter": {
     "outputs_hidden": false,
     "source_hidden": true
    },
    "lastExecutedAt": 1690750084302,
    "lastScheduledRunId": null,
    "lastSuccessfullyExecutedCode": "outlier = df['months_as_member'] == df['months_as_member'].max()\ndf_remove = df[~outlier]"
   },
   "outputs": [],
   "source": [
    "outlier = df['months_as_member'] == df['months_as_member'].max()\n",
    "df_remove = df[~outlier]"
   ]
  },
  {
   "cell_type": "code",
   "execution_count": 77,
   "id": "8407bb49-0f50-4cee-88cd-4a7caef38f69",
   "metadata": {
    "executionCancelledAt": null,
    "executionTime": 182,
    "jupyter": {
     "outputs_hidden": false,
     "source_hidden": true
    },
    "lastExecutedAt": 1690750084484,
    "lastScheduledRunId": null,
    "lastSuccessfullyExecutedCode": "g = sns.catplot(x='attended',\n                y='months_as_member',\n                data = df_remove,\n                kind='box'\n               )\n\n# Customize the subplot\ng.set_axis_labels('Attendance', 'Number of Months as Member')\ng.fig.suptitle('Plot 4-2 Relationship between Attendance and Number of Months as Member')\nplt.subplots_adjust(top=0.85)\n# g.set_titles('Plot 4-2 Relationship between Attendance and Number of Months as Member')\nplt.show()"
   },
   "outputs": [
    {
     "data": {
      "image/png": "[encoded data removed]",
      "text/plain": [
       "<Figure size 500x500 with 1 Axes>"
      ]
     },
     "metadata": {},
     "output_type": "display_data"
    }
   ],
   "source": [
    "g = sns.catplot(x='attended',\n",
    "                y='months_as_member',\n",
    "                data = df_remove,\n",
    "                kind='box'\n",
    "               )\n",
    "\n",
    "# Customize the subplot\n",
    "g.set_axis_labels('Attendance', 'Number of Months as Member')\n",
    "g.fig.suptitle('Plot 4-2 Relationship between Attendance and Number of Months as Member')\n",
    "plt.subplots_adjust(top=0.85)\n",
    "# g.set_titles('Plot 4-2 Relationship between Attendance and Number of Months as Member')\n",
    "plt.show()"
   ]
  },
  {
   "cell_type": "markdown",
   "id": "66e07a44-f276-4516-87ce-e460d3f1a33a",
   "metadata": {},
   "source": [
    "## Task 5\n",
    "The business wants to predict whether members will attend using the provided data. This is a classification machine learning problem.  Classification algorithms will be used to learn patterns and relationships in the data from past attendance records and then use this knowledge to predict whether future members are likely to attend a class or not.\n",
    "\n",
    "The task is to build predictive models that takes the input features such as \"Months_as_member,\" \"Weight,\" \"Days_before,\" \"day_of_week,\" \"time,\" and \"Category\" and predicts the corresponding class label (0 or 1) for non-attendace or attendance."
   ]
  },
  {
   "cell_type": "code",
   "execution_count": 78,
   "id": "07b69665-394f-4946-95d9-3255a3f3e11e",
   "metadata": {
    "executionCancelledAt": null,
    "executionTime": 46,
    "jupyter": {
     "outputs_hidden": false,
     "source_hidden": false
    },
    "lastExecutedAt": 1690750084530,
    "lastScheduledRunId": null,
    "lastSuccessfullyExecutedCode": "#import ML models and peformance metrics\nfrom sklearn.model_selection import train_test_split\nfrom sklearn.linear_model import LogisticRegression\nfrom sklearn.ensemble import RandomForestClassifier\nfrom sklearn.metrics import accuracy_score, roc_auc_score"
   },
   "outputs": [],
   "source": [
    "#import ML models and peformance metrics\n",
    "from sklearn.model_selection import train_test_split\n",
    "from sklearn.linear_model import LogisticRegression\n",
    "from sklearn.ensemble import RandomForestClassifier\n",
    "from sklearn.metrics import accuracy_score, roc_auc_score"
   ]
  },
  {
   "cell_type": "markdown",
   "id": "ce8e2d20-c91b-477e-9e08-8fe40a51d857",
   "metadata": {},
   "source": [
    "### Preprocessing dataset for modelling\n",
    "- Dropped the 'booking_id' column since it is just a unique identifier.\n",
    "- Dropped outliers in months_as_member and weight column column.\n",
    "- Encoded the catgorical columns category, time and day_of_week.\n",
    "- Checked for class imbalance in target variable."
   ]
  },
  {
   "cell_type": "code",
   "execution_count": 79,
   "id": "3ab180ab-867e-41a7-a44a-13fbcb6a18e0",
   "metadata": {
    "executionCancelledAt": null,
    "executionTime": 52,
    "jupyter": {
     "outputs_hidden": false,
     "source_hidden": true
    },
    "lastExecutedAt": 1690750084582,
    "lastScheduledRunId": null,
    "lastSuccessfullyExecutedCode": "# dropping the booking id column since it is just a unique identifier of the booking.\ndf.drop(columns=['booking_id', ], inplace=True)\n\n# dropping outliers in months_as_member column.\noutlier1 = df['months_as_member'] == df['months_as_member'].max()\ndf = df[~outlier1]\n\n# dropping outliers in weight column.\noutlier2 = df['weight'] == df['weight'].max()\ndf = df[~outlier]\n\n#Reset index\ndf = df.reset_index(drop=True)"
   },
   "outputs": [],
   "source": [
    "# dropping the booking id column since it is just a unique identifier of the booking.\n",
    "df.drop(columns=['booking_id', ], inplace=True)\n",
    "\n",
    "# dropping outliers in months_as_member column.\n",
    "outlier1 = df['months_as_member'] == df['months_as_member'].max()\n",
    "df = df[~outlier1]\n",
    "\n",
    "# dropping outliers in weight column.\n",
    "outlier2 = df['weight'] == df['weight'].max()\n",
    "df = df[~outlier]\n",
    "\n",
    "#Reset index\n",
    "df = df.reset_index(drop=True)"
   ]
  },
  {
   "cell_type": "markdown",
   "id": "6ec36898-a349-4be6-a9b1-1f9c573c1326",
   "metadata": {
    "jupyter": {
     "outputs_hidden": false,
     "source_hidden": true
    }
   },
   "source": [
    "### Encoding categprical columns"
   ]
  },
  {
   "cell_type": "code",
   "execution_count": 80,
   "id": "2efe8c5d-44c6-4d46-a085-65e0198d5505",
   "metadata": {
    "executionCancelledAt": null,
    "executionTime": 48,
    "jupyter": {
     "outputs_hidden": false,
     "source_hidden": true
    },
    "lastExecutedAt": 1690750084630,
    "lastScheduledRunId": null,
    "lastSuccessfullyExecutedCode": "# Encoding categprical columns\ndf = pd.get_dummies(df, columns = ['category', 'time', 'day_of_week'])"
   },
   "outputs": [],
   "source": [
    "# Encoding categprical columns\n",
    "df = pd.get_dummies(df, columns = ['category', 'time', 'day_of_week'])"
   ]
  },
  {
   "cell_type": "markdown",
   "id": "9aed954e-97f9-49cd-8bf8-389a05ff7fcf",
   "metadata": {
    "jupyter": {
     "outputs_hidden": false,
     "source_hidden": true
    }
   },
   "source": [
    "### Splitting dataset into input features and target variable"
   ]
  },
  {
   "cell_type": "code",
   "execution_count": 81,
   "id": "57a30868-5647-4620-8e1a-74c357f2d098",
   "metadata": {
    "executionCancelledAt": null,
    "executionTime": 52,
    "jupyter": {
     "outputs_hidden": false,
     "source_hidden": true
    },
    "lastExecutedAt": 1690750084682,
    "lastScheduledRunId": null,
    "lastSuccessfullyExecutedCode": "# Separate features (X) and target variable (y)\nX = df.drop('attended', axis=1)\ny = df['attended']"
   },
   "outputs": [],
   "source": [
    "# Separate features (X) and target variable (y)\n",
    "X = df.drop('attended', axis=1)\n",
    "y = df['attended']"
   ]
  },
  {
   "cell_type": "markdown",
   "id": "d0ca35ee-4552-4a79-ad0f-ac656deb4cd7",
   "metadata": {
    "jupyter": {
     "outputs_hidden": false,
     "source_hidden": true
    }
   },
   "source": [
    "### Checking for class imbalance in the target variable. \n",
    "As seen below there is class imbalance, as there are more non-attendance(approx 70%) than attendance(approx 30%)."
   ]
  },
  {
   "cell_type": "code",
   "execution_count": 82,
   "id": "559ee2c9-652e-47a7-b2e1-87aec8e93ca4",
   "metadata": {
    "collapsed": true,
    "executionCancelledAt": null,
    "executionTime": 52,
    "jupyter": {
     "outputs_hidden": true,
     "source_hidden": true
    },
    "lastExecutedAt": 1690750084734,
    "lastScheduledRunId": null,
    "lastSuccessfullyExecutedCode": "# Calculating the proportion of attendance(1) and non-attendance(0)\ny.value_counts(normalize=True)"
   },
   "outputs": [
    {
     "data": {
      "text/plain": [
       "0    0.697799\n",
       "1    0.302201\n",
       "Name: attended, dtype: float64"
      ]
     },
     "execution_count": 82,
     "metadata": {},
     "output_type": "execute_result"
    }
   ],
   "source": [
    "# Calculating the proportion of attendance(1) and non-attendance(0)\n",
    "y.value_counts(normalize=True)"
   ]
  },
  {
   "cell_type": "markdown",
   "id": "5dc9da9f-6866-41c0-b996-64279649cf76",
   "metadata": {
    "jupyter": {
     "outputs_hidden": false,
     "source_hidden": false
    }
   },
   "source": [
    "### Splitting dataset into train and test\n",
    "This helps to avoid overfitting on the dateset. We have use the stratify argument to resolve the class imbalance observed in the target variable, this makes sure the train and test set get the same ratio of non-attendance and attendance as observed below."
   ]
  },
  {
   "cell_type": "code",
   "execution_count": 83,
   "id": "8ba49c99-4ac1-4a79-a293-7aa9ab8b41b0",
   "metadata": {
    "collapsed": true,
    "executionCancelledAt": null,
    "executionTime": 48,
    "jupyter": {
     "outputs_hidden": true,
     "source_hidden": false
    },
    "lastExecutedAt": 1690750084782,
    "lastScheduledRunId": null,
    "lastSuccessfullyExecutedCode": "# Split the data into training and testing sets\nX_train, X_test, y_train, y_test = train_test_split(X, y, stratify=y, test_size=0.2, random_state=19)\n\n# Verifying the target variable test and train set has the same proportion of attendance and non-attendance\nprint(y_train.value_counts(normalize=True))\nprint()\nprint(y_test.value_counts(normalize=True))",
    "outputsMetadata": {
     "0": {
      "height": 153,
      "type": "stream"
     }
    }
   },
   "outputs": [
    {
     "name": "stdout",
     "output_type": "stream",
     "text": [
      "0    0.698082\n",
      "1    0.301918\n",
      "Name: attended, dtype: float64\n",
      "\n",
      "0    0.696667\n",
      "1    0.303333\n",
      "Name: attended, dtype: float64\n"
     ]
    }
   ],
   "source": [
    "# Split the data into training and testing sets\n",
    "X_train, X_test, y_train, y_test = train_test_split(X, y, stratify=y, test_size=0.2, random_state=19)\n",
    "\n",
    "# Verifying the target variable test and train set has the same proportion of attendance and non-attendance\n",
    "print(y_train.value_counts(normalize=True))\n",
    "print()\n",
    "print(y_test.value_counts(normalize=True))"
   ]
  },
  {
   "cell_type": "markdown",
   "id": "8b20fa2e-da87-4cf4-9591-157a0837891e",
   "metadata": {},
   "source": [
    "## Task 6\n",
    "Baseline Model - Logistic Regression"
   ]
  },
  {
   "cell_type": "code",
   "execution_count": 84,
   "id": "76b4446c-9c17-4aa7-8119-8d33c51a6593",
   "metadata": {
    "executionCancelledAt": null,
    "executionTime": 296,
    "jupyter": {
     "outputs_hidden": false,
     "source_hidden": false
    },
    "lastExecutedAt": 1690750085078,
    "lastScheduledRunId": null,
    "lastSuccessfullyExecutedCode": "# creating the baseline model\nbaseline_model = LogisticRegression(random_state=19)\n\n# fitting the baseline model\nbaseline_model.fit(X_train, y_train)"
   },
   "outputs": [
    {
     "data": {
      "text/html": [
       "<style>#sk-container-id-5 {color: black;background-color: white;}#sk-container-id-5 pre{padding: 0;}#sk-container-id-5 div.sk-toggleable {background-color: white;}#sk-container-id-5 label.sk-toggleable__label {cursor: pointer;display: block;width: 100%;margin-bottom: 0;padding: 0.3em;box-sizing: border-box;text-align: center;}#sk-container-id-5 label.sk-toggleable__label-arrow:before {content: \"▸\";float: left;margin-right: 0.25em;color: #696969;}#sk-container-id-5 label.sk-toggleable__label-arrow:hover:before {color: black;}#sk-container-id-5 div.sk-estimator:hover label.sk-toggleable__label-arrow:before {color: black;}#sk-container-id-5 div.sk-toggleable__content {max-height: 0;max-width: 0;overflow: hidden;text-align: left;background-color: #f0f8ff;}#sk-container-id-5 div.sk-toggleable__content pre {margin: 0.2em;color: black;border-radius: 0.25em;background-color: #f0f8ff;}#sk-container-id-5 input.sk-toggleable__control:checked~div.sk-toggleable__content {max-height: 200px;max-width: 100%;overflow: auto;}#sk-container-id-5 input.sk-toggleable__control:checked~label.sk-toggleable__label-arrow:before {content: \"▾\";}#sk-container-id-5 div.sk-estimator input.sk-toggleable__control:checked~label.sk-toggleable__label {background-color: #d4ebff;}#sk-container-id-5 div.sk-label input.sk-toggleable__control:checked~label.sk-toggleable__label {background-color: #d4ebff;}#sk-container-id-5 input.sk-hidden--visually {border: 0;clip: rect(1px 1px 1px 1px);clip: rect(1px, 1px, 1px, 1px);height: 1px;margin: -1px;overflow: hidden;padding: 0;position: absolute;width: 1px;}#sk-container-id-5 div.sk-estimator {font-family: monospace;background-color: #f0f8ff;border: 1px dotted black;border-radius: 0.25em;box-sizing: border-box;margin-bottom: 0.5em;}#sk-container-id-5 div.sk-estimator:hover {background-color: #d4ebff;}#sk-container-id-5 div.sk-parallel-item::after {content: \"\";width: 100%;border-bottom: 1px solid gray;flex-grow: 1;}#sk-container-id-5 div.sk-label:hover label.sk-toggleable__label {background-color: #d4ebff;}#sk-container-id-5 div.sk-serial::before {content: \"\";position: absolute;border-left: 1px solid gray;box-sizing: border-box;top: 0;bottom: 0;left: 50%;z-index: 0;}#sk-container-id-5 div.sk-serial {display: flex;flex-direction: column;align-items: center;background-color: white;padding-right: 0.2em;padding-left: 0.2em;position: relative;}#sk-container-id-5 div.sk-item {position: relative;z-index: 1;}#sk-container-id-5 div.sk-parallel {display: flex;align-items: stretch;justify-content: center;background-color: white;position: relative;}#sk-container-id-5 div.sk-item::before, #sk-container-id-5 div.sk-parallel-item::before {content: \"\";position: absolute;border-left: 1px solid gray;box-sizing: border-box;top: 0;bottom: 0;left: 50%;z-index: -1;}#sk-container-id-5 div.sk-parallel-item {display: flex;flex-direction: column;z-index: 1;position: relative;background-color: white;}#sk-container-id-5 div.sk-parallel-item:first-child::after {align-self: flex-end;width: 50%;}#sk-container-id-5 div.sk-parallel-item:last-child::after {align-self: flex-start;width: 50%;}#sk-container-id-5 div.sk-parallel-item:only-child::after {width: 0;}#sk-container-id-5 div.sk-dashed-wrapped {border: 1px dashed gray;margin: 0 0.4em 0.5em 0.4em;box-sizing: border-box;padding-bottom: 0.4em;background-color: white;}#sk-container-id-5 div.sk-label label {font-family: monospace;font-weight: bold;display: inline-block;line-height: 1.2em;}#sk-container-id-5 div.sk-label-container {text-align: center;}#sk-container-id-5 div.sk-container {/* jupyter's `normalize.less` sets `[hidden] { display: none; }` but bootstrap.min.css set `[hidden] { display: none !important; }` so we also need the `!important` here to be able to override the default hidden behavior on the sphinx rendered scikit-learn.org. See: https://github.com/scikit-learn/scikit-learn/issues/21755 */display: inline-block !important;position: relative;}#sk-container-id-5 div.sk-text-repr-fallback {display: none;}</style><div id=\"sk-container-id-5\" class=\"sk-top-container\"><div class=\"sk-text-repr-fallback\"><pre>LogisticRegression(random_state=19)</pre><b>In a Jupyter environment, please rerun this cell to show the HTML representation or trust the notebook. <br />On GitHub, the HTML representation is unable to render, please try loading this page with nbviewer.org.</b></div><div class=\"sk-container\" hidden><div class=\"sk-item\"><div class=\"sk-estimator sk-toggleable\"><input class=\"sk-toggleable__control sk-hidden--visually\" id=\"sk-estimator-id-5\" type=\"checkbox\" checked><label for=\"sk-estimator-id-5\" class=\"sk-toggleable__label sk-toggleable__label-arrow\">LogisticRegression</label><div class=\"sk-toggleable__content\"><pre>LogisticRegression(random_state=19)</pre></div></div></div></div></div>"
      ],
      "text/plain": [
       "LogisticRegression(random_state=19)"
      ]
     },
     "execution_count": 84,
     "metadata": {},
     "output_type": "execute_result"
    }
   ],
   "source": [
    "# creating the baseline model\n",
    "baseline_model = LogisticRegression(random_state=19)\n",
    "\n",
    "# fitting the baseline model\n",
    "baseline_model.fit(X_train, y_train)"
   ]
  },
  {
   "cell_type": "markdown",
   "id": "b7f0dcc4-98c7-43fe-8ee2-629aac60c421",
   "metadata": {},
   "source": [
    "## Task 7\n",
    "Comparison Model - Random Forest Classifier"
   ]
  },
  {
   "cell_type": "code",
   "execution_count": 85,
   "id": "3d5953c8-9f51-426c-a597-b41bd742e4d1",
   "metadata": {
    "executionCancelledAt": null,
    "executionTime": 241,
    "jupyter": {
     "outputs_hidden": false,
     "source_hidden": false
    },
    "lastExecutedAt": 1690750085320,
    "lastScheduledRunId": null,
    "lastSuccessfullyExecutedCode": "# creating the comparison model\ncomparison_model = RandomForestClassifier(random_state=19)\n\n# fitting the comparison model\ncomparison_model.fit(X_train, y_train)"
   },
   "outputs": [
    {
     "data": {
      "text/html": [
       "<style>#sk-container-id-6 {color: black;background-color: white;}#sk-container-id-6 pre{padding: 0;}#sk-container-id-6 div.sk-toggleable {background-color: white;}#sk-container-id-6 label.sk-toggleable__label {cursor: pointer;display: block;width: 100%;margin-bottom: 0;padding: 0.3em;box-sizing: border-box;text-align: center;}#sk-container-id-6 label.sk-toggleable__label-arrow:before {content: \"▸\";float: left;margin-right: 0.25em;color: #696969;}#sk-container-id-6 label.sk-toggleable__label-arrow:hover:before {color: black;}#sk-container-id-6 div.sk-estimator:hover label.sk-toggleable__label-arrow:before {color: black;}#sk-container-id-6 div.sk-toggleable__content {max-height: 0;max-width: 0;overflow: hidden;text-align: left;background-color: #f0f8ff;}#sk-container-id-6 div.sk-toggleable__content pre {margin: 0.2em;color: black;border-radius: 0.25em;background-color: #f0f8ff;}#sk-container-id-6 input.sk-toggleable__control:checked~div.sk-toggleable__content {max-height: 200px;max-width: 100%;overflow: auto;}#sk-container-id-6 input.sk-toggleable__control:checked~label.sk-toggleable__label-arrow:before {content: \"▾\";}#sk-container-id-6 div.sk-estimator input.sk-toggleable__control:checked~label.sk-toggleable__label {background-color: #d4ebff;}#sk-container-id-6 div.sk-label input.sk-toggleable__control:checked~label.sk-toggleable__label {background-color: #d4ebff;}#sk-container-id-6 input.sk-hidden--visually {border: 0;clip: rect(1px 1px 1px 1px);clip: rect(1px, 1px, 1px, 1px);height: 1px;margin: -1px;overflow: hidden;padding: 0;position: absolute;width: 1px;}#sk-container-id-6 div.sk-estimator {font-family: monospace;background-color: #f0f8ff;border: 1px dotted black;border-radius: 0.25em;box-sizing: border-box;margin-bottom: 0.5em;}#sk-container-id-6 div.sk-estimator:hover {background-color: #d4ebff;}#sk-container-id-6 div.sk-parallel-item::after {content: \"\";width: 100%;border-bottom: 1px solid gray;flex-grow: 1;}#sk-container-id-6 div.sk-label:hover label.sk-toggleable__label {background-color: #d4ebff;}#sk-container-id-6 div.sk-serial::before {content: \"\";position: absolute;border-left: 1px solid gray;box-sizing: border-box;top: 0;bottom: 0;left: 50%;z-index: 0;}#sk-container-id-6 div.sk-serial {display: flex;flex-direction: column;align-items: center;background-color: white;padding-right: 0.2em;padding-left: 0.2em;position: relative;}#sk-container-id-6 div.sk-item {position: relative;z-index: 1;}#sk-container-id-6 div.sk-parallel {display: flex;align-items: stretch;justify-content: center;background-color: white;position: relative;}#sk-container-id-6 div.sk-item::before, #sk-container-id-6 div.sk-parallel-item::before {content: \"\";position: absolute;border-left: 1px solid gray;box-sizing: border-box;top: 0;bottom: 0;left: 50%;z-index: -1;}#sk-container-id-6 div.sk-parallel-item {display: flex;flex-direction: column;z-index: 1;position: relative;background-color: white;}#sk-container-id-6 div.sk-parallel-item:first-child::after {align-self: flex-end;width: 50%;}#sk-container-id-6 div.sk-parallel-item:last-child::after {align-self: flex-start;width: 50%;}#sk-container-id-6 div.sk-parallel-item:only-child::after {width: 0;}#sk-container-id-6 div.sk-dashed-wrapped {border: 1px dashed gray;margin: 0 0.4em 0.5em 0.4em;box-sizing: border-box;padding-bottom: 0.4em;background-color: white;}#sk-container-id-6 div.sk-label label {font-family: monospace;font-weight: bold;display: inline-block;line-height: 1.2em;}#sk-container-id-6 div.sk-label-container {text-align: center;}#sk-container-id-6 div.sk-container {/* jupyter's `normalize.less` sets `[hidden] { display: none; }` but bootstrap.min.css set `[hidden] { display: none !important; }` so we also need the `!important` here to be able to override the default hidden behavior on the sphinx rendered scikit-learn.org. See: https://github.com/scikit-learn/scikit-learn/issues/21755 */display: inline-block !important;position: relative;}#sk-container-id-6 div.sk-text-repr-fallback {display: none;}</style><div id=\"sk-container-id-6\" class=\"sk-top-container\"><div class=\"sk-text-repr-fallback\"><pre>RandomForestClassifier(random_state=19)</pre><b>In a Jupyter environment, please rerun this cell to show the HTML representation or trust the notebook. <br />On GitHub, the HTML representation is unable to render, please try loading this page with nbviewer.org.</b></div><div class=\"sk-container\" hidden><div class=\"sk-item\"><div class=\"sk-estimator sk-toggleable\"><input class=\"sk-toggleable__control sk-hidden--visually\" id=\"sk-estimator-id-6\" type=\"checkbox\" checked><label for=\"sk-estimator-id-6\" class=\"sk-toggleable__label sk-toggleable__label-arrow\">RandomForestClassifier</label><div class=\"sk-toggleable__content\"><pre>RandomForestClassifier(random_state=19)</pre></div></div></div></div></div>"
      ],
      "text/plain": [
       "RandomForestClassifier(random_state=19)"
      ]
     },
     "execution_count": 85,
     "metadata": {},
     "output_type": "execute_result"
    }
   ],
   "source": [
    "# creating the comparison model\n",
    "comparison_model = RandomForestClassifier(random_state=19)\n",
    "\n",
    "# fitting the comparison model\n",
    "comparison_model.fit(X_train, y_train)"
   ]
  },
  {
   "cell_type": "markdown",
   "id": "5cec4b2d-86fd-4ce3-9f9c-e9ab2ec0e436",
   "metadata": {},
   "source": [
    "## Task 8\n",
    "**Logistic Regression** is a simple and interpretable algorithm that is commonly used for binary classification problems like this. **Random Forest Classifier** is a more advanced and powerful ensemble learning algorithm that can capture complex relationships in the data and is less likely to overfit compared to a single logistic regression model."
   ]
  },
  {
   "cell_type": "markdown",
   "id": "84fc2a09-ea39-4a6f-85b2-5d17957e1ac5",
   "metadata": {},
   "source": [
    "## Task 9\n",
    "I am choosing to use the **ROC_AUC_SCORE** to evaluate the model since the accuracy of both models is approximately the same. it measures how well a model can distinguish between two outomes (non-attendance and attendance) based on its predictions."
   ]
  },
  {
   "cell_type": "markdown",
   "id": "5b87e544-5acc-452f-b293-c13369b0dd08",
   "metadata": {},
   "source": [
    "### Evaluating the Logistic Regression model"
   ]
  },
  {
   "cell_type": "code",
   "execution_count": 86,
   "id": "246f2368-09ae-4cac-bdb5-7daacb0b2faf",
   "metadata": {
    "executionCancelledAt": null,
    "executionTime": 50,
    "jupyter": {
     "outputs_hidden": false,
     "source_hidden": false
    },
    "lastExecutedAt": 1690750085370,
    "lastScheduledRunId": null,
    "lastSuccessfullyExecutedCode": "# Predict on the test data\ny_pred = baseline_model.predict(X_test)\n\n# Calculate accuracy\naccuracy_base = accuracy_score(y_test, y_pred)\nprint(\"Accuracy of the baseline logistic regression model:\", accuracy_base)\n\n# Calculate roc_auc score\nprint('ROC SCORE')\nprint(roc_auc_score(y_test, y_pred))",
    "outputsMetadata": {
     "0": {
      "height": 75,
      "type": "stream"
     }
    }
   },
   "outputs": [
    {
     "name": "stdout",
     "output_type": "stream",
     "text": [
      "Accuracy of the baseline logistic regression model: 0.79\n",
      "ROC SCORE\n",
      "0.6848677638151323\n"
     ]
    }
   ],
   "source": [
    "# Predict on the test data\n",
    "y_pred = baseline_model.predict(X_test)\n",
    "\n",
    "# Calculate accuracy\n",
    "accuracy_base = accuracy_score(y_test, y_pred)\n",
    "print(\"Accuracy of the baseline logistic regression model:\", accuracy_base)\n",
    "\n",
    "# Calculate roc_auc score\n",
    "print('ROC SCORE')\n",
    "print(roc_auc_score(y_test, y_pred))"
   ]
  },
  {
   "cell_type": "markdown",
   "id": "f7372a9e-5ed3-4170-b30f-4199b6beb5c5",
   "metadata": {},
   "source": [
    "### Evaluating the Random Forest model"
   ]
  },
  {
   "cell_type": "code",
   "execution_count": 87,
   "id": "402e3403-12b9-4f3d-9f52-77033d2bff37",
   "metadata": {
    "executionCancelledAt": null,
    "executionTime": 48,
    "jupyter": {
     "outputs_hidden": false,
     "source_hidden": false
    },
    "lastExecutedAt": 1690750085418,
    "lastScheduledRunId": null,
    "lastSuccessfullyExecutedCode": "# Predict on the test data\ny_prob_comparison = comparison_model.predict(X_test)\n\n# Calculate accuracy\naccuracy_comp = accuracy_score(y_test, y_prob_comparison)\nprint(\"Accuracy of the comparison Random Forest Classifier model:\", accuracy_comp)\n\n# Calculate roc_auc score\nprint('ROC SCORE')\nprint(roc_auc_score(y_test, y_prob_comparison))",
    "outputsMetadata": {
     "0": {
      "height": 75,
      "type": "stream"
     }
    }
   },
   "outputs": [
    {
     "name": "stdout",
     "output_type": "stream",
     "text": [
      "Accuracy of the comparison Random Forest Classifier model: 0.79\n",
      "ROC SCORE\n",
      "0.7189915347810084\n"
     ]
    }
   ],
   "source": [
    "# Predict on the test data\n",
    "y_prob_comparison = comparison_model.predict(X_test)\n",
    "\n",
    "# Calculate accuracy\n",
    "accuracy_comp = accuracy_score(y_test, y_prob_comparison)\n",
    "print(\"Accuracy of the comparison Random Forest Classifier model:\", accuracy_comp)\n",
    "\n",
    "# Calculate roc_auc score\n",
    "print('ROC SCORE')\n",
    "print(roc_auc_score(y_test, y_prob_comparison))"
   ]
  },
  {
   "cell_type": "markdown",
   "id": "feb9e1eb-8913-43b8-a280-a369cf10631e",
   "metadata": {},
   "source": [
    "## Task 10\n",
    "A higher ROC score generally indicates a better performing model.\n",
    "\n",
    "Theerefore **Random Forest Classifier** is better at predicting attendance/Non-attendance than Logistic regression."
   ]
  }
 ],
 "metadata": {
  "colab": {
   "name": "Welcome to DataCamp Workspaces.ipynb",
   "provenance": []
  },
  "kernelspec": {
   "display_name": "Python 3 (ipykernel)",
   "language": "python",
   "name": "python3"
  },
  "language_info": {
   "codemirror_mode": {
    "name": "ipython",
    "version": 3
   },
   "file_extension": ".py",
   "mimetype": "text/x-python",
   "name": "python",
   "nbconvert_exporter": "python",
   "pygments_lexer": "ipython3",
   "version": "3.9.13"
  }
 },
 "nbformat": 4,
 "nbformat_minor": 5
}
